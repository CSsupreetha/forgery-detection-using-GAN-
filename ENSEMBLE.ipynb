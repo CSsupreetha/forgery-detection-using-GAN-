{
  "nbformat": 4,
  "nbformat_minor": 0,
  "metadata": {
    "colab": {
      "provenance": [],
      "authorship_tag": "ABX9TyOevtEnPFzO5i4WCBTw1TNR"
    },
    "kernelspec": {
      "name": "python3",
      "display_name": "Python 3"
    },
    "language_info": {
      "name": "python"
    }
  },
  "cells": [
    {
      "cell_type": "code",
      "execution_count": null,
      "metadata": {
        "colab": {
          "base_uri": "https://localhost:8080/"
        },
        "outputId": "9718c0e1-e86c-4214-a926-77e1ee64f7b8",
        "id": "kW9jORuzNrzj"
      },
      "outputs": [
        {
          "output_type": "stream",
          "name": "stdout",
          "text": [
            "AND Original= [0, 0, 0, 1, 0, 0, 0, 1, 0, 0, 1, 1, 0, 0, 0, 0, 0, 0, 0, 0, 0, 0, 1, 0, 1, 1, 0, 1, 1, 0, 0, 0, 1, 0, 1, 0, 1, 0, 0, 1, 0, 0, 1, 0, 0, 0, 0, 0, 0, 1, 0, 0, 0, 0, 1, 0, 0, 0, 0, 0, 0, 0, 1, 0, 0, 1, 0, 0, 0, 1, 1, 0, 0, 1, 0, 0, 0, 1, 0, 1, 1, 0, 0, 0, 1, 0, 0, 1, 0, 1, 0, 0, 1, 0, 1, 1, 0, 1, 0, 1]\n",
            "Total count of 0s: 68\n",
            "Total count of 1s: 32\n"
          ]
        }
      ],
      "source": [
        "#AND OPERATION on original\n",
        "# Define two lists representing the outputs of the two discriminators\n",
        "dcgan_original = [1,1,0,1,0,0,0,1,1,0,1,1,0,0,0,1,1,1,1,1,0,0,1,1,1,1,0,1,1,1,1,1,1,1,1,1,1,0,0,1,1,1,1,1,1,0,0,0,0,1,0,0,1,0,1,1,0,0,0,0,0,0,1,1,0,1,1,0,0,1,1,1,1,1,0,0,0,1,0,1,1,0,0,1,1,0,1,1,0,1,0,0,1,1,1,1,0,1,0,1\n",
        "    # 100 binary values here\n",
        "]\n",
        "\n",
        "wgan_original = [0,0,1,1,0,1,1,1,0,0,1,1,0,0,1,0,0,0,0,0,1,1,1,0,1,1,0,1,1,0,0,0,1,0,1,0,1,0,1,1,0,0,1,0,0,1,0,1,1,1,1,0,0,0,1,0,0,0,1,0,0,1,1,0,0,1,0,1,0,1,1,0,0,1,1,1,0,1,1,1,1,1,1,0,1,1,0,1,1,1,1,1,1,0,1,1,0,1,0,1\n",
        "    # 100 binary values here\n",
        "]\n",
        "\n",
        "# Ensure that both lists have the same length (100 in this case)\n",
        "if len(dcgan_original) != len(wgan_original):\n",
        "    raise ValueError(\"Both output lists must have the same length.\")\n",
        "\n",
        "# Perform logical AND operation on the two sets of binary values\n",
        "result = []\n",
        "\n",
        "for bit1, bit2 in zip(dcgan_original, wgan_original):\n",
        "    result.append(bit1 & bit2)\n",
        "\n",
        "# The 'result' list now contains the logical AND of corresponding elements\n",
        "print(\"AND Original=\",result)\n",
        "# Calculate the total count of 0s and 1s in the 'result' list\n",
        "count_0 = result.count(0)\n",
        "count_1 = result.count(1)\n",
        "\n",
        "print(\"Total count of 0s:\", count_0)\n",
        "print(\"Total count of 1s:\", count_1)\n",
        "\n"
      ]
    },
    {
      "cell_type": "code",
      "source": [
        "#AND OPERATION on retouching\n",
        "# Define two lists representing the outputs of the two discriminators\n",
        "dcgan_RETOUCHING = [1,0,0,1,0,0,0,0,1,0,0,1,1,0,0,1,0,0,1,0,0,0,1,0,0,0,0,0,0,1,1,0,1,0,1,1,1,0,1,0,0,0,1,0,1,0,1,0,1,0,1,1,0,1,1,1,1,1,0,0,0,0,1,1,0,1,0,1,1,0,0,1,1,1,0,1,0,0,0,0,0,1,0,0,1,1,1,1,1,1,1,1,1,1,1,0,1,0,1,1]\n",
        "\n",
        "wgan_RETOUCHING = [0,1,1,0,1,1,0,0,1,1,1,1,0,1,1,0,1,0,1,0,0,0,0,0,0,1,0,0,1,1,1,0,1,0,1,0,1,0,1,0,0,1,1,1,1,1,1,0,0,1,1,0,1,1,1,0,0,0,1,0,1,1,1,1,1,1,1,1,1,1,0,1,0,0,1,0,1,0,1,1,1,0,1,1,0,0,1,1,0,0,1,1,1,1,1,1,0,0,1,0]\n",
        "\n",
        "# Ensure that both lists have the same length (100 in this case)\n",
        "if len(dcgan_RETOUCHING) != len(wgan_RETOUCHING):\n",
        "    raise ValueError(\"Both output lists must have the same length.\")\n",
        "\n",
        "# Perform logical AND operation on the two sets of binary values\n",
        "result = []\n",
        "\n",
        "for bit1, bit2 in zip(dcgan_RETOUCHING, wgan_RETOUCHING):\n",
        "    result.append(bit1 & bit2)\n",
        "\n",
        "# The 'result' list now contains the logical AND of corresponding elements\n",
        "print(\"AND Retouching=\",result)\n",
        "# Calculate the total count of 0s and 1s in the 'result' list\n",
        "count_0 = result.count(0)\n",
        "count_1 = result.count(1)\n",
        "\n",
        "print(\"Total count of 0s:\", count_0)\n",
        "print(\"Total count of 1s:\", count_1)"
      ],
      "metadata": {
        "colab": {
          "base_uri": "https://localhost:8080/"
        },
        "id": "zHSIVy6v82mV",
        "outputId": "19ac001a-2b2a-49b5-f364-c71ede32e6e5"
      },
      "execution_count": null,
      "outputs": [
        {
          "output_type": "stream",
          "name": "stdout",
          "text": [
            "AND Retouching= [0, 0, 0, 0, 0, 0, 0, 0, 1, 0, 0, 1, 0, 0, 0, 0, 0, 0, 1, 0, 0, 0, 0, 0, 0, 0, 0, 0, 0, 1, 1, 0, 1, 0, 1, 0, 1, 0, 1, 0, 0, 0, 1, 0, 1, 0, 1, 0, 0, 0, 1, 0, 0, 1, 1, 0, 0, 0, 0, 0, 0, 0, 1, 1, 0, 1, 0, 1, 1, 0, 0, 1, 0, 0, 0, 0, 0, 0, 0, 0, 0, 0, 0, 0, 0, 0, 1, 1, 0, 0, 1, 1, 1, 1, 1, 0, 0, 0, 1, 0]\n",
            "Total count of 0s: 71\n",
            "Total count of 1s: 29\n"
          ]
        }
      ]
    },
    {
      "cell_type": "code",
      "source": [
        "#AND OPERATION on generated\n",
        "# Define two lists representing the outputs of the two discriminators\n",
        "dcgan_gen = [0,0,0,0,0,0,0,0,0,0,0,0,0,0,0,0,0,0,0,1,0,0,0,0,0,0,0,0,0,0,0,0,1,1,0,0,0,0,0,0,0,0,0,0,0,0,1,0,0,0,0,0,0,0,0,0,0,0,0,0,0,0,0,0,0,0,0,0,0,0,0,0,0,0,0,0,0,0,0,0,0,0,0,0,0,0,0,0,0,0,0,0,0,0,0,0,0]\n",
        "wgan_gen = [0,0,0,0,0,0,0,0,0,0,0,0,0,0,0,0,0,0,0,0,0,0,0,0,0,0,0,0,0,0,0,0,0,0,0,0,0,0,0,0,0,0,0,0,0,0,0,0,0,0,0,0,0,0,0,0,0,0,0,0,0,0,0,0,0,0,0,0,0,0,0,0,0,0,0,0,0,0,0,0,0,0,0,0,0,0,0,0,0,0,0,0,0,0,0,0,0]\n",
        "# Ensure that both lists have the same length (100 in this case)\n",
        "if len(dcgan_gen) != len(wgan_gen):\n",
        "    raise ValueError(\"Both output lists must have the same length.\")\n",
        "\n",
        "# Perform logical AND operation on the two sets of binary values\n",
        "result = []\n",
        "\n",
        "for bit1, bit2 in zip(dcgan_gen, wgan_gen):\n",
        "    result.append(bit1 & bit2)\n",
        "\n",
        "# The 'result' list now contains the logical AND of corresponding elements\n",
        "print(\"AND Generated=\",result)\n",
        "# Calculate the total count of 0s and 1s in the 'result' list\n",
        "count_0 = result.count(0)\n",
        "count_1 = result.count(1)\n",
        "\n",
        "print(\"Total count of 0s:\", count_0)\n",
        "print(\"Total count of 1s:\", count_1)"
      ],
      "metadata": {
        "colab": {
          "base_uri": "https://localhost:8080/"
        },
        "id": "r7RsY1zBHJ3X",
        "outputId": "09ccfbd9-a5c1-4e86-bec2-cf402f832701"
      },
      "execution_count": null,
      "outputs": [
        {
          "output_type": "stream",
          "name": "stdout",
          "text": [
            "AND Generated= [0, 0, 0, 0, 0, 0, 0, 0, 0, 0, 0, 0, 0, 0, 0, 0, 0, 0, 0, 0, 0, 0, 0, 0, 0, 0, 0, 0, 0, 0, 0, 0, 0, 0, 0, 0, 0, 0, 0, 0, 0, 0, 0, 0, 0, 0, 0, 0, 0, 0, 0, 0, 0, 0, 0, 0, 0, 0, 0, 0, 0, 0, 0, 0, 0, 0, 0, 0, 0, 0, 0, 0, 0, 0, 0, 0, 0, 0, 0, 0, 0, 0, 0, 0, 0, 0, 0, 0, 0, 0, 0, 0, 0, 0, 0, 0, 0]\n",
            "Total count of 0s: 97\n",
            "Total count of 1s: 0\n"
          ]
        }
      ]
    },
    {
      "cell_type": "code",
      "source": [
        "#AND OPERATION on Copymove\n",
        "# Define two lists representing the outputs of the two discriminators\n",
        "dcgan_cm = [1,1,1,1,0,0,0,0,0,0,0,1,1,0,0,1,0,0,0,1,1,1,1,1,0,1,0,0,1,0,0,0,0,0,1,0,0,1,1,0,0,1,0,1,1,0,1,0,1,0,0,0,1,0,1,1,1,0,0,0,0,1,0,1,1,0,0,0,1,1,0,1,1,1,0,1,0,1,0,0,0,0,0,1,1,0,0,1,0,1,1,0,1,1,1,0,0,1,0,1]\n",
        "wgan_cm = [1,0,0,1,1,0,0,0,0,1,1,0,0,0,1,0,1,0,0,0,1,1,1,1,1,1,1,1,1,0,0,1,1,1,1,0,0,1,1,1,1,1,1,0,1,1,0,0,0,0,0,0,0,1,0,0,1,1,0,0,0,0,1,1,0,1,1,0,0,0,1,1,0,0,1,0,1,1,0,0,0,1,0,1,0,0,0,1,0,1,0,1,1,0,1,1,1,0,0,1]\n",
        "# Ensure that both lists have the same length (100 in this case)\n",
        "if len(dcgan_cm) != len(wgan_cm):\n",
        "    raise ValueError(\"Both output lists must have the same length.\")\n",
        "\n",
        "# Perform logical AND operation on the two sets of binary values\n",
        "result = []\n",
        "\n",
        "for bit1, bit2 in zip(dcgan_cm, wgan_cm):\n",
        "    result.append(bit1 & bit2)\n",
        "\n",
        "# The 'result' list now contains the logical AND of corresponding elements\n",
        "print(\"AND Copymove=\",result)\n",
        "# Calculate the total count of 0s and 1s in the 'result' list\n",
        "count_0 = result.count(0)\n",
        "count_1 = result.count(1)\n",
        "\n",
        "print(\"Total count of 0s:\", count_0)\n",
        "print(\"Total count of 1s:\", count_1)"
      ],
      "metadata": {
        "colab": {
          "base_uri": "https://localhost:8080/"
        },
        "id": "O9fZDPdtKX7M",
        "outputId": "ca20eb5c-38ba-4373-87ea-fde20da98d0c"
      },
      "execution_count": null,
      "outputs": [
        {
          "output_type": "stream",
          "name": "stdout",
          "text": [
            "AND Copymove= [1, 0, 0, 1, 0, 0, 0, 0, 0, 0, 0, 0, 0, 0, 0, 0, 0, 0, 0, 0, 1, 1, 1, 1, 0, 1, 0, 0, 1, 0, 0, 0, 0, 0, 1, 0, 0, 1, 1, 0, 0, 1, 0, 0, 1, 0, 0, 0, 0, 0, 0, 0, 0, 0, 0, 0, 1, 0, 0, 0, 0, 0, 0, 1, 0, 0, 0, 0, 0, 0, 0, 1, 0, 0, 0, 0, 0, 1, 0, 0, 0, 0, 0, 1, 0, 0, 0, 1, 0, 1, 0, 0, 1, 0, 1, 0, 0, 0, 0, 1]\n",
            "Total count of 0s: 77\n",
            "Total count of 1s: 23\n"
          ]
        }
      ]
    },
    {
      "cell_type": "code",
      "source": [
        "#OR OPERATION on Copymove\n",
        "# Define two lists representing the outputs of the two discriminators\n",
        "dcgan_cm = [1,1,1,1,0,0,0,0,0,0,0,1,1,0,0,1,0,0,0,1,1,1,1,1,0,1,0,0,1,0,0,0,0,0,1,0,0,1,1,0,0,1,0,1,1,0,1,0,1,0,0,0,1,0,1,1,1,0,0,0,0,1,0,1,1,0,0,0,1,1,0,1,1,1,0,1,0,1,0,0,0,0,0,1,1,0,0,1,0,1,1,0,1,1,1,0,0,1,0,1]\n",
        "wgan_cm = [1,0,0,1,1,0,0,0,0,1,1,0,0,0,1,0,1,0,0,0,1,1,1,1,1,1,1,1,1,0,0,1,1,1,1,0,0,1,1,1,1,1,1,0,1,1,0,0,0,0,0,0,0,1,0,0,1,1,0,0,0,0,1,1,0,1,1,0,0,0,1,1,0,0,1,0,1,1,0,0,0,1,0,1,0,0,0,1,0,1,0,1,1,0,1,1,1,0,0,1]\n",
        "# Ensure that both lists have the same length (100 in this case)\n",
        "if len(dcgan_cm) != len(wgan_cm):\n",
        "    raise ValueError(\"Both output lists must have the same length.\")\n",
        "\n",
        "# Perform logical AND operation on the two sets of binary values\n",
        "result = []\n",
        "\n",
        "for bit1, bit2 in zip(dcgan_cm, wgan_cm):\n",
        "    result.append(bit1 | bit2)\n",
        "\n",
        "# The 'result' list now contains the logical AND of corresponding elements\n",
        "print(\"OR Copymove=\",result)\n",
        "# Calculate the total count of 0s and 1s in the 'result' list\n",
        "count_0 = result.count(0)\n",
        "count_1 = result.count(1)\n",
        "\n",
        "print(\"Total count of 0s:\", count_0)\n",
        "print(\"Total count of 1s:\", count_1)"
      ],
      "metadata": {
        "id": "9z2IrwwQLDX8",
        "colab": {
          "base_uri": "https://localhost:8080/"
        },
        "outputId": "6dc73ce6-8699-4918-cc72-65ee8198ad7f"
      },
      "execution_count": null,
      "outputs": [
        {
          "output_type": "stream",
          "name": "stdout",
          "text": [
            "OR Copymove= [1, 1, 1, 1, 1, 0, 0, 0, 0, 1, 1, 1, 1, 0, 1, 1, 1, 0, 0, 1, 1, 1, 1, 1, 1, 1, 1, 1, 1, 0, 0, 1, 1, 1, 1, 0, 0, 1, 1, 1, 1, 1, 1, 1, 1, 1, 1, 0, 1, 0, 0, 0, 1, 1, 1, 1, 1, 1, 0, 0, 0, 1, 1, 1, 1, 1, 1, 0, 1, 1, 1, 1, 1, 1, 1, 1, 1, 1, 0, 0, 0, 1, 0, 1, 1, 0, 0, 1, 0, 1, 1, 1, 1, 1, 1, 1, 1, 1, 0, 1]\n",
            "Total count of 0s: 27\n",
            "Total count of 1s: 73\n"
          ]
        }
      ]
    },
    {
      "cell_type": "code",
      "source": [
        "#OR OPERATION on generated\n",
        "# Define two lists representing the outputs of the two discriminators\n",
        "dcgan_gen = [0,0,0,0,0,0,0,0,0,0,0,0,0,0,0,0,0,0,0,1,0,0,0,0,0,0,0,0,0,0,0,0,1,1,0,0,0,0,0,0,0,0,0,0,0,0,1,0,0,0,0,0,0,0,0,0,0,0,0,0,0,0,0,0,0,0,0,0,0,0,0,0,0,0,0,0,0,0,0,0,0,0,0,0,0,0,0,0,0,0,0,0,0,0,0,0,0]\n",
        "wgan_gen = [0,0,0,0,0,0,0,0,0,0,0,0,0,0,0,0,0,0,0,0,0,0,0,0,0,0,0,0,0,0,0,0,0,0,0,0,0,0,0,0,0,0,0,0,0,0,0,0,0,0,0,0,0,0,0,0,0,0,0,0,0,0,0,0,0,0,0,0,0,0,0,0,0,0,0,0,0,0,0,0,0,0,0,0,0,0,0,0,0,0,0,0,0,0,0,0,0]\n",
        "# Ensure that both lists have the same length (100 in this case)\n",
        "if len(dcgan_gen) != len(wgan_gen):\n",
        "    raise ValueError(\"Both output lists must have the same length.\")\n",
        "\n",
        "# Perform logical AND operation on the two sets of binary values\n",
        "result = []\n",
        "\n",
        "for bit1, bit2 in zip(dcgan_gen, wgan_gen):\n",
        "    result.append(bit1 | bit2)\n",
        "\n",
        "# The 'result' list now contains the logical AND of corresponding elements\n",
        "print(\"OR Generated=\",result)\n",
        "# Calculate the total count of 0s and 1s in the 'result' list\n",
        "count_0 = result.count(0)\n",
        "count_1 = result.count(1)\n",
        "\n",
        "print(\"Total count of 0s:\", count_0)\n",
        "print(\"Total count of 1s:\", count_1)"
      ],
      "metadata": {
        "id": "lhsRjMqVLERs",
        "colab": {
          "base_uri": "https://localhost:8080/"
        },
        "outputId": "a3195710-e888-4262-8840-41195bad26b4"
      },
      "execution_count": null,
      "outputs": [
        {
          "output_type": "stream",
          "name": "stdout",
          "text": [
            "OR Generated= [0, 0, 0, 0, 0, 0, 0, 0, 0, 0, 0, 0, 0, 0, 0, 0, 0, 0, 0, 1, 0, 0, 0, 0, 0, 0, 0, 0, 0, 0, 0, 0, 1, 1, 0, 0, 0, 0, 0, 0, 0, 0, 0, 0, 0, 0, 1, 0, 0, 0, 0, 0, 0, 0, 0, 0, 0, 0, 0, 0, 0, 0, 0, 0, 0, 0, 0, 0, 0, 0, 0, 0, 0, 0, 0, 0, 0, 0, 0, 0, 0, 0, 0, 0, 0, 0, 0, 0, 0, 0, 0, 0, 0, 0, 0, 0, 0]\n",
            "Total count of 0s: 93\n",
            "Total count of 1s: 4\n"
          ]
        }
      ]
    },
    {
      "cell_type": "code",
      "source": [
        " #OR OPERATION on retouching\n",
        "# Define two lists representing the outputs of the two discriminators\n",
        "dcgan_RETOUCHING = [1,0,0,1,0,0,0,0,1,0,0,1,1,0,0,1,0,0,1,0,0,0,1,0,0,0,0,0,0,1,1,0,1,0,1,1,1,0,1,0,0,0,1,0,1,0,1,0,1,0,1,1,0,1,1,1,1,1,0,0,0,0,1,1,0,1,0,1,1,0,0,1,1,1,0,1,0,0,0,0,0,1,0,0,1,1,1,1,1,1,1,1,1,1,1,0,1,0,1,1]\n",
        "\n",
        "wgan_RETOUCHING = [0,1,1,0,1,1,0,0,1,1,1,1,0,1,1,0,1,0,1,0,0,0,0,0,0,1,0,0,1,1,1,0,1,0,1,0,1,0,1,0,0,1,1,1,1,1,1,0,0,1,1,0,1,1,1,0,0,0,1,0,1,1,1,1,1,1,1,1,1,1,0,1,0,0,1,0,1,0,1,1,1,0,1,1,0,0,1,1,0,0,1,1,1,1,1,1,0,0,1,0]\n",
        "\n",
        "# Ensure that both lists have the same length (100 in this case)\n",
        "if len(dcgan_RETOUCHING) != len(wgan_RETOUCHING):\n",
        "    raise ValueError(\"Both output lists must have the same length.\")\n",
        "\n",
        "# Perform logical AND operation on the two sets of binary values\n",
        "result = []\n",
        "\n",
        "for bit1, bit2 in zip(dcgan_RETOUCHING, wgan_RETOUCHING):\n",
        "    result.append(bit1 | bit2)\n",
        "\n",
        "# The 'result' list now contains the logical AND of corresponding elements\n",
        "print(\"OR Retouching=\",result)\n",
        "# Calculate the total count of 0s and 1s in the 'result' list\n",
        "count_0 = result.count(0)\n",
        "count_1 = result.count(1)\n",
        "\n",
        "print(\"Total count of 0s:\", count_0)\n",
        "print(\"Total count of 1s:\", count_1)"
      ],
      "metadata": {
        "id": "kOGtQyHBLEmR",
        "colab": {
          "base_uri": "https://localhost:8080/"
        },
        "outputId": "dcbe1862-3d5e-436a-c9d6-57c6cdcdacad"
      },
      "execution_count": null,
      "outputs": [
        {
          "output_type": "stream",
          "name": "stdout",
          "text": [
            "OR Retouching= [1, 1, 1, 1, 1, 1, 0, 0, 1, 1, 1, 1, 1, 1, 1, 1, 1, 0, 1, 0, 0, 0, 1, 0, 0, 1, 0, 0, 1, 1, 1, 0, 1, 0, 1, 1, 1, 0, 1, 0, 0, 1, 1, 1, 1, 1, 1, 0, 1, 1, 1, 1, 1, 1, 1, 1, 1, 1, 1, 0, 1, 1, 1, 1, 1, 1, 1, 1, 1, 1, 0, 1, 1, 1, 1, 1, 1, 0, 1, 1, 1, 1, 1, 1, 1, 1, 1, 1, 1, 1, 1, 1, 1, 1, 1, 1, 1, 0, 1, 1]\n",
            "Total count of 0s: 20\n",
            "Total count of 1s: 80\n"
          ]
        }
      ]
    },
    {
      "cell_type": "code",
      "source": [
        "# OR OPERATION on original\n",
        "# Define two lists representing the outputs of the two discriminators\n",
        "dcgan_original = [1,1,0,1,0,0,0,1,1,0,1,1,0,0,0,1,1,1,1,1,0,0,1,1,1,1,0,1,1,1,1,1,1,1,1,1,1,0,0,1,1,1,1,1,1,0,0,0,0,1,0,0,1,0,1,1,0,0,0,0,0,0,1,1,0,1,1,0,0,1,1,1,1,1,0,0,0,1,0,1,1,0,0,1,1,0,1,1,0,1,0,0,1,1,1,1,0,1,0,1\n",
        "    # 100 binary values here\n",
        "]\n",
        "\n",
        "wgan_original = [0,0,1,1,0,1,1,1,0,0,1,1,0,0,1,0,0,0,0,0,1,1,1,0,1,1,0,1,1,0,0,0,1,0,1,0,1,0,1,1,0,0,1,0,0,1,0,1,1,1,1,0,0,0,1,0,0,0,1,0,0,1,1,0,0,1,0,1,0,1,1,0,0,1,1,1,0,1,1,1,1,1,1,0,1,1,0,1,1,1,1,1,1,0,1,1,0,1,0,1\n",
        "    # 100 binary values here\n",
        "]\n",
        "\n",
        "# Ensure that both lists have the same length (100 in this case)\n",
        "if len(dcgan_original) != len(wgan_original):\n",
        "    raise ValueError(\"Both output lists must have the same length.\")\n",
        "\n",
        "# Perform logical AND operation on the two sets of binary values\n",
        "result = []\n",
        "\n",
        "for bit1, bit2 in zip(dcgan_original, wgan_original):\n",
        "    result.append(bit1 | bit2)\n",
        "\n",
        "# The 'result' list now contains the logical AND of corresponding elements\n",
        "print(\"OR Original=\",result)\n",
        "## The 'result' list now contains the logical AND of corresponding elements\n",
        "print(\"OR Retouching=\",result)\n",
        "# Calculate the total count of 0s and 1s in the 'result' list\n",
        "count_0 = result.count(0)\n",
        "count_1 = result.count(1)\n",
        "\n",
        "print(\"Total count of 0s:\", count_0)\n",
        "print(\"Total count of 1s:\", count_1)"
      ],
      "metadata": {
        "id": "6PDptnLjLE0D",
        "colab": {
          "base_uri": "https://localhost:8080/"
        },
        "outputId": "0c74dd4a-ba86-4947-c066-9fde0da1043f"
      },
      "execution_count": null,
      "outputs": [
        {
          "output_type": "stream",
          "name": "stdout",
          "text": [
            "OR Original= [1, 1, 1, 1, 0, 1, 1, 1, 1, 0, 1, 1, 0, 0, 1, 1, 1, 1, 1, 1, 1, 1, 1, 1, 1, 1, 0, 1, 1, 1, 1, 1, 1, 1, 1, 1, 1, 0, 1, 1, 1, 1, 1, 1, 1, 1, 0, 1, 1, 1, 1, 0, 1, 0, 1, 1, 0, 0, 1, 0, 0, 1, 1, 1, 0, 1, 1, 1, 0, 1, 1, 1, 1, 1, 1, 1, 0, 1, 1, 1, 1, 1, 1, 1, 1, 1, 1, 1, 1, 1, 1, 1, 1, 1, 1, 1, 0, 1, 0, 1]\n",
            "OR Retouching= [1, 1, 1, 1, 0, 1, 1, 1, 1, 0, 1, 1, 0, 0, 1, 1, 1, 1, 1, 1, 1, 1, 1, 1, 1, 1, 0, 1, 1, 1, 1, 1, 1, 1, 1, 1, 1, 0, 1, 1, 1, 1, 1, 1, 1, 1, 0, 1, 1, 1, 1, 0, 1, 0, 1, 1, 0, 0, 1, 0, 0, 1, 1, 1, 0, 1, 1, 1, 0, 1, 1, 1, 1, 1, 1, 1, 0, 1, 1, 1, 1, 1, 1, 1, 1, 1, 1, 1, 1, 1, 1, 1, 1, 1, 1, 1, 0, 1, 0, 1]\n",
            "Total count of 0s: 18\n",
            "Total count of 1s: 82\n"
          ]
        }
      ]
    }
  ]
}